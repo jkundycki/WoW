{
 "cells": [
  {
   "cell_type": "code",
   "execution_count": 58,
   "metadata": {},
   "outputs": [],
   "source": [
    "from pyquery import PyQuery as pq\n",
    "import pandas as pd\n",
    "from pandas.io.json import json_normalize\n",
    "import requests as req\n",
    "import json"
   ]
  },
  {
   "cell_type": "code",
   "execution_count": 60,
   "metadata": {},
   "outputs": [],
   "source": [
    "url = \"\"\n",
    "resp = req.get(url)\n",
    "doc = pq(resp.text)\n",
    "\n",
    "#title = doc('title').text()\n",
    "#print(title)"
   ]
  },
  {
   "cell_type": "code",
   "execution_count": 61,
   "metadata": {},
   "outputs": [],
   "source": [
    "# Convert response to json\n",
    "data = resp.json()"
   ]
  },
  {
   "cell_type": "code",
   "execution_count": 65,
   "metadata": {},
   "outputs": [],
   "source": [
    "# Convert json to pandas df\n",
    "df = json_normalize(data, 'mounts')"
   ]
  },
  {
   "cell_type": "code",
   "execution_count": 66,
   "metadata": {},
   "outputs": [
    {
     "data": {
      "text/html": [
       "<div>\n",
       "<style scoped>\n",
       "    .dataframe tbody tr th:only-of-type {\n",
       "        vertical-align: middle;\n",
       "    }\n",
       "\n",
       "    .dataframe tbody tr th {\n",
       "        vertical-align: top;\n",
       "    }\n",
       "\n",
       "    .dataframe thead th {\n",
       "        text-align: right;\n",
       "    }\n",
       "</style>\n",
       "<table border=\"1\" class=\"dataframe\">\n",
       "  <thead>\n",
       "    <tr style=\"text-align: right;\">\n",
       "      <th></th>\n",
       "      <th>name</th>\n",
       "      <th>id</th>\n",
       "      <th>key.href</th>\n",
       "    </tr>\n",
       "  </thead>\n",
       "  <tbody>\n",
       "    <tr>\n",
       "      <td>0</td>\n",
       "      <td>Brown Horse</td>\n",
       "      <td>6</td>\n",
       "      <td>https://us.api.blizzard.com/data/wow/mount/6?n...</td>\n",
       "    </tr>\n",
       "    <tr>\n",
       "      <td>1</td>\n",
       "      <td>Gray Wolf</td>\n",
       "      <td>7</td>\n",
       "      <td>https://us.api.blizzard.com/data/wow/mount/7?n...</td>\n",
       "    </tr>\n",
       "    <tr>\n",
       "      <td>2</td>\n",
       "      <td>White Stallion</td>\n",
       "      <td>8</td>\n",
       "      <td>https://us.api.blizzard.com/data/wow/mount/8?n...</td>\n",
       "    </tr>\n",
       "    <tr>\n",
       "      <td>3</td>\n",
       "      <td>Black Stallion</td>\n",
       "      <td>9</td>\n",
       "      <td>https://us.api.blizzard.com/data/wow/mount/9?n...</td>\n",
       "    </tr>\n",
       "    <tr>\n",
       "      <td>4</td>\n",
       "      <td>Pinto</td>\n",
       "      <td>11</td>\n",
       "      <td>https://us.api.blizzard.com/data/wow/mount/11?...</td>\n",
       "    </tr>\n",
       "  </tbody>\n",
       "</table>\n",
       "</div>"
      ],
      "text/plain": [
       "             name  id                                           key.href\n",
       "0     Brown Horse   6  https://us.api.blizzard.com/data/wow/mount/6?n...\n",
       "1       Gray Wolf   7  https://us.api.blizzard.com/data/wow/mount/7?n...\n",
       "2  White Stallion   8  https://us.api.blizzard.com/data/wow/mount/8?n...\n",
       "3  Black Stallion   9  https://us.api.blizzard.com/data/wow/mount/9?n...\n",
       "4           Pinto  11  https://us.api.blizzard.com/data/wow/mount/11?..."
      ]
     },
     "execution_count": 66,
     "metadata": {},
     "output_type": "execute_result"
    }
   ],
   "source": [
    "df.head()"
   ]
  },
  {
   "cell_type": "code",
   "execution_count": null,
   "metadata": {},
   "outputs": [],
   "source": []
  }
 ],
 "metadata": {
  "kernelspec": {
   "display_name": "Python 3",
   "language": "python",
   "name": "python3"
  },
  "language_info": {
   "codemirror_mode": {
    "name": "ipython",
    "version": 3
   },
   "file_extension": ".py",
   "mimetype": "text/x-python",
   "name": "python",
   "nbconvert_exporter": "python",
   "pygments_lexer": "ipython3",
   "version": "3.7.4"
  }
 },
 "nbformat": 4,
 "nbformat_minor": 2
}
